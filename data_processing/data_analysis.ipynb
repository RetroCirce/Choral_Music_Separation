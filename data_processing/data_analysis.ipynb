{
 "cells": [
  {
   "cell_type": "code",
   "execution_count": 2,
   "metadata": {},
   "outputs": [],
   "source": [
    "import os\n",
    "import sys\n",
    "sys.path.append(\"..\")\n",
    "import config\n",
    "import numpy as np\n",
    "import pretty_midi as pyd\n",
    "from tqdm import tqdm"
   ]
  },
  {
   "cell_type": "code",
   "execution_count": 3,
   "metadata": {},
   "outputs": [],
   "source": [
    "dataset_path = os.path.join(config.dataset_path, \"original\")\n",
    "midi_files = list(set(d[:config.global_config[\"general_name_length\"]] for d in os.listdir(dataset_path)))\n",
    "midi_files.sort()\n",
    "track_name = config.global_config[\"track_name\"]"
   ]
  },
  {
   "cell_type": "code",
   "execution_count": 6,
   "metadata": {},
   "outputs": [
    {
     "name": "stderr",
     "output_type": "stream",
     "text": [
      "  0%|          | 0/347 [00:00<?, ?it/s]"
     ]
    },
    {
     "name": "stdout",
     "output_type": "stream",
     "text": [
      "[]\n"
     ]
    },
    {
     "name": "stderr",
     "output_type": "stream",
     "text": [
      "\n"
     ]
    }
   ],
   "source": [
    "max_note = {}\n",
    "min_note = {}\n",
    "ts = {}\n",
    "for t in track_name:\n",
    "    max_note[t] = 0\n",
    "    min_note[t] = 128\n",
    "    for midi_file in tqdm(midi_files):\n",
    "        midi_file = os.path.join(dataset_path, midi_file + \"_\" + t + \".mid\")\n",
    "        midi_data = pyd.PrettyMIDI(midi_file)\n",
    "        print(midi_data.instruments[0].control_changes)\n",
    "        midi = [d.pitch for d in midi_data.instruments[0].notes]\n",
    "        max_note[t] = max(max_note[t], max(midi))\n",
    "        min_note[t] = min(min_note[t], min(midi))\n",
    "        ts_temp = midi_data.time_signature_changes\n",
    "        for tst in ts_temp:\n",
    "            tst = str(tst.numerator) + \"/\" + str(tst.denominator)\n",
    "            if tst not in ts:\n",
    "                ts[tst] = 1\n",
    "            else:\n",
    "                ts[tst] += 1\n",
    "        break\n",
    "    break\n",
    "            \n"
   ]
  },
  {
   "cell_type": "code",
   "execution_count": 11,
   "metadata": {},
   "outputs": [
    {
     "data": {
      "text/plain": [
       "{'3/4': 192, '4/4': 1856, '3/2': 8}"
      ]
     },
     "execution_count": 11,
     "metadata": {},
     "output_type": "execute_result"
    }
   ],
   "source": [
    "ts"
   ]
  },
  {
   "cell_type": "code",
   "execution_count": 12,
   "metadata": {},
   "outputs": [
    {
     "data": {
      "text/plain": [
       "{'tenor': 69, 'bass': 64, 'soprano': 81, 'alto': 74}"
      ]
     },
     "execution_count": 12,
     "metadata": {},
     "output_type": "execute_result"
    }
   ],
   "source": [
    "max_note"
   ]
  },
  {
   "cell_type": "code",
   "execution_count": 13,
   "metadata": {},
   "outputs": [
    {
     "data": {
      "text/plain": [
       "{'tenor': 48, 'bass': 36, 'soprano': 57, 'alto': 53}"
      ]
     },
     "execution_count": 13,
     "metadata": {},
     "output_type": "execute_result"
    }
   ],
   "source": [
    "min_note"
   ]
  }
 ],
 "metadata": {
  "interpreter": {
   "hash": "ee0c8448f0707c7dff885e3044c13adc54aef02dacce1d48c14bdf3b6a371fb0"
  },
  "kernelspec": {
   "display_name": "Python 3.8.8 64-bit",
   "language": "python",
   "name": "python3"
  },
  "language_info": {
   "codemirror_mode": {
    "name": "ipython",
    "version": 3
   },
   "file_extension": ".py",
   "mimetype": "text/x-python",
   "name": "python",
   "nbconvert_exporter": "python",
   "pygments_lexer": "ipython3",
   "version": "3.8.8"
  },
  "orig_nbformat": 4
 },
 "nbformat": 4,
 "nbformat_minor": 2
}
